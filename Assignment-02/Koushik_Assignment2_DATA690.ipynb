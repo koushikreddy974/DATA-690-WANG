{
  "nbformat": 4,
  "nbformat_minor": 0,
  "metadata": {
    "colab": {
      "name": "Koushik-Assignment2-DATA690.ipynb",
      "provenance": [],
      "collapsed_sections": []
    },
    "kernelspec": {
      "name": "python3",
      "display_name": "Python 3"
    }
  },
  "cells": [
    {
      "cell_type": "code",
      "metadata": {
        "colab": {
          "base_uri": "https://localhost:8080/"
        },
        "id": "pwFIEOf6RbCV",
        "outputId": "8ef13d8e-0064-40ba-b923-bcd0df2c199e"
      },
      "source": [
        "print(\"Enter Ten Integers:\")\r\n",
        "integers=[]                                                                     #List for Storing the given integers\r\n",
        "index=0\r\n",
        "while index<10:\r\n",
        "  value=input(\"Enter Integer {}: \".format(index+1))\r\n",
        "  try:\r\n",
        "    value=int(value)                                                            #Checking if the given input is integer or not\r\n",
        "    integers.append(value)\r\n",
        "    index+=1\r\n",
        "  except:\r\n",
        "    print(\"The Input is not Integer\")\r\n",
        "print()\r\n",
        "print(\"The Entered Integers are:\",integers)                                     #Printing the integers\r\n",
        "print()\r\n",
        "print(\"Minimum of the Ten Integers is: \",min(integers))                         #Printing Minimum of the given integers\r\n",
        "print()\r\n",
        "print(\"Maximum of the Ten Integers is: \",max(integers))                         #Printing Maximum of the given integers\r\n",
        "print()\r\n",
        "range=max(integers)-min(integers)                                               #Calculating Range\r\n",
        "print(\"Range of the Ten Integers is: \",range)                                   #Printing Range of the given integers\r\n",
        "print()\r\n",
        "mean=sum(integers)/10                                                           #Calculating Mean(Sum of integers/number of integers)\r\n",
        "print(\"Mean of the Ten Integers is: \",mean)                                     #Printing Mean of the given integers\r\n",
        "print()\r\n",
        "\r\n",
        "\"\"\"\r\n",
        "Calculating Variance\r\n",
        "Variance=∑(arr[i] – mean)^2 / n\r\n",
        "here ∑(arr[i] – mean)^2 value is stored in variable cal and is initially assigned to zero\r\n",
        "\"\"\"\r\n",
        "cal=0\r\n",
        "for val in integers:\r\n",
        "  cal+=(val-mean)**2\r\n",
        "variance = cal/10\r\n",
        "print(\"Variance of the Ten Integers is: \",variance)                             #Printing Variance\r\n",
        "print()\r\n",
        "print(\"Standard Deviation of the Ten Integers is:\",variance**(1/2))             #Printing Standard Deviation( Standard deviation = square root of variance)\r\n",
        "\r\n"
      ],
      "execution_count": 9,
      "outputs": [
        {
          "output_type": "stream",
          "text": [
            "Enter Ten Integers:\n",
            "Enter Integer 1: 5\n",
            "Enter Integer 2: 3\n",
            "Enter Integer 3: 244\n",
            "Enter Integer 4: 222\n",
            "Enter Integer 5: 444\n",
            "Enter Integer 6: 555\n",
            "Enter Integer 7: 3333\n",
            "Enter Integer 8: 555\n",
            "Enter Integer 9: 66\n",
            "Enter Integer 10: 3\n",
            "\n",
            "The Entered Integers are: [5, 3, 244, 222, 444, 555, 3333, 555, 66, 3]\n",
            "\n",
            "Minimum of the Ten Integers is:  3\n",
            "\n",
            "Maximum of the Ten Integers is:  3333\n",
            "\n",
            "Range of the Ten Integers is:  3330\n",
            "\n",
            "Mean of the Ten Integers is:  543.0\n",
            "\n",
            "Variance of the Ten Integers is:  908680.4\n",
            "\n",
            "Standard Deviation of the Ten Integers is: 953.2472921545594\n"
          ],
          "name": "stdout"
        }
      ]
    },
    {
      "cell_type": "code",
      "metadata": {
        "id": "5CJRDJP3S863"
      },
      "source": [
        ""
      ],
      "execution_count": null,
      "outputs": []
    }
  ]
}