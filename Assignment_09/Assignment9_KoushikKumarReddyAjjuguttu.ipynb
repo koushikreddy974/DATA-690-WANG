{
  "nbformat": 4,
  "nbformat_minor": 0,
  "metadata": {
    "kernelspec": {
      "display_name": "Python 3",
      "language": "python",
      "name": "python3"
    },
    "language_info": {
      "codemirror_mode": {
        "name": "ipython",
        "version": 3
      },
      "file_extension": ".py",
      "mimetype": "text/x-python",
      "name": "python",
      "nbconvert_exporter": "python",
      "pygments_lexer": "ipython3",
      "version": "3.7.1"
    },
    "colab": {
      "name": "Assignment9_KoushikKumarReddyAjjuguttu.ipynb",
      "provenance": [],
      "collapsed_sections": [],
      "toc_visible": true
    }
  },
  "cells": [
    {
      "cell_type": "markdown",
      "metadata": {
        "id": "QO-ZnKTTvwjM"
      },
      "source": [
        "### Assignment # 09 - Point Estimate and Interval Estimate (Confidence Interval)\n",
        "\n",
        "A random survey of enrollment at **35** community colleges across the United States yielded the following figures: \n",
        "\n",
        "6,414; 1,550; 2,109; 9,350; 21,828; 4,300; 5,944; 5,722; 2,825; 2,044;\n",
        "\n",
        "5,481; 5,200; 5,853; 2,750; 10,012; 6,357; 27,000; 9,414; 7,681; 3,200; \n",
        "\n",
        "17,500; 9,200; 7,380; 18,314; 6,557; 13,713; 17,768; 7,493; 2,771; 2,861; \n",
        "\n",
        "1,263; 7,285; 28,165; 5,080; 11,622\n",
        "\n",
        "Perform point estimate and interval estimate with **95% confidence level** using **t-distribution**.\n",
        "\n",
        "Since we don't know the population variance, we use t-distribiution instead of normal distribution."
      ]
    },
    {
      "cell_type": "code",
      "metadata": {
        "id": "RQBJ3BvgvwjO"
      },
      "source": [
        "# Import Python packages\n",
        "\n",
        "import pandas as pd \n",
        "import numpy as np \n",
        "from matplotlib import pyplot as pyplot \n",
        "import os, random \n",
        "import math\n",
        "import seaborn as sns \n",
        "import matplotlib.pyplot as plt\n",
        "%matplotlib inline\n",
        "import glob\n",
        "import statistics as st\n",
        "import scipy.stats as stats"
      ],
      "execution_count": 33,
      "outputs": []
    },
    {
      "cell_type": "markdown",
      "metadata": {
        "id": "yGj7WnubvwjP"
      },
      "source": [
        "### Step 0 - Data Preprocessing \n",
        "\n",
        "Process the raw data to make a list of integers. In order to calculate descriptive statistic, Python needs to work with a list of numbers.\n",
        "### note:\n",
        "Don't manually make the list by hand-typing the numbers. Write code to automate the data preparation."
      ]
    },
    {
      "cell_type": "code",
      "metadata": {
        "id": "FKeAFctVvwjP",
        "colab": {
          "base_uri": "https://localhost:8080/",
          "height": 69
        },
        "outputId": "f15ad387-5ad3-4000-df57-7ad94e4479b4"
      },
      "source": [
        "# make each line of numbers a string object and then concatenate them together \n",
        "# The end result is one single string containing 35 numbers separated by \";\"\n",
        "\n",
        "data_1 = \"6,414; 1,550; 2,109; 9,350; 21,828; 4,300; 5,944; 5,722; 2,825; 2,044;\" \n",
        "data_2 = \"5,481; 5,200; 5,853; 2,750; 10,012; 6,357; 27,000; 9,414; 7,681; 3,200; \"\n",
        "data_3 = \"17,500; 9,200; 7,380; 18,314; 6,557; 13,713; 17,768; 7,493; 2,771; 2,861; \"\n",
        "data_4 = \"1,263; 7,285; 28,165; 5,080; 11,622\"\n",
        "data = data_1 + data_2 + data_3 + data_4\n",
        "data"
      ],
      "execution_count": 34,
      "outputs": [
        {
          "output_type": "execute_result",
          "data": {
            "application/vnd.google.colaboratory.intrinsic+json": {
              "type": "string"
            },
            "text/plain": [
              "'6,414; 1,550; 2,109; 9,350; 21,828; 4,300; 5,944; 5,722; 2,825; 2,044;5,481; 5,200; 5,853; 2,750; 10,012; 6,357; 27,000; 9,414; 7,681; 3,200; 17,500; 9,200; 7,380; 18,314; 6,557; 13,713; 17,768; 7,493; 2,771; 2,861; 1,263; 7,285; 28,165; 5,080; 11,622'"
            ]
          },
          "metadata": {
            "tags": []
          },
          "execution_count": 34
        }
      ]
    },
    {
      "cell_type": "code",
      "metadata": {
        "id": "jY622A35vwjU",
        "colab": {
          "base_uri": "https://localhost:8080/"
        },
        "outputId": "0fcd3172-5f39-46da-feb2-b51903b5a5fc"
      },
      "source": [
        "# Convert the single string to a list of strings using split() function\n",
        "# Make sure to specify a delimter or separator\n",
        "k = data.split(\";\")\n",
        "print(k)\n"
      ],
      "execution_count": 35,
      "outputs": [
        {
          "output_type": "stream",
          "text": [
            "['6,414', ' 1,550', ' 2,109', ' 9,350', ' 21,828', ' 4,300', ' 5,944', ' 5,722', ' 2,825', ' 2,044', '5,481', ' 5,200', ' 5,853', ' 2,750', ' 10,012', ' 6,357', ' 27,000', ' 9,414', ' 7,681', ' 3,200', ' 17,500', ' 9,200', ' 7,380', ' 18,314', ' 6,557', ' 13,713', ' 17,768', ' 7,493', ' 2,771', ' 2,861', ' 1,263', ' 7,285', ' 28,165', ' 5,080', ' 11,622']\n"
          ],
          "name": "stdout"
        }
      ]
    },
    {
      "cell_type": "markdown",
      "metadata": {
        "id": "S3loEFuJ3fdT"
      },
      "source": [
        "Create a list of integers from the list of strings using List Comprehension or for loop. Make sure to remove the \",\" first and then convert the strings to integers."
      ]
    },
    {
      "cell_type": "code",
      "metadata": {
        "id": "_b8yjF0hvwjV",
        "colab": {
          "base_uri": "https://localhost:8080/"
        },
        "outputId": "fb4bc6f3-9e09-452d-9a8f-7624e5bf6c57"
      },
      "source": [
        "# Using List Comprehension\n",
        "t = [int(i.replace(\",\", \"\")) for i in k]\n",
        "print(t)"
      ],
      "execution_count": 36,
      "outputs": [
        {
          "output_type": "stream",
          "text": [
            "[6414, 1550, 2109, 9350, 21828, 4300, 5944, 5722, 2825, 2044, 5481, 5200, 5853, 2750, 10012, 6357, 27000, 9414, 7681, 3200, 17500, 9200, 7380, 18314, 6557, 13713, 17768, 7493, 2771, 2861, 1263, 7285, 28165, 5080, 11622]\n"
          ],
          "name": "stdout"
        }
      ]
    },
    {
      "cell_type": "code",
      "metadata": {
        "id": "zHvdPZomvwjW",
        "colab": {
          "base_uri": "https://localhost:8080/"
        },
        "outputId": "5c2471ee-d33c-4d0d-f735-cfd050e355b8"
      },
      "source": [
        "# Use for loop\n",
        "\n",
        "t = []\n",
        "for i in k:\n",
        "    y = i.replace(\",\", \"\")\n",
        "    y = int(y)\n",
        "    t.append(y)  \n",
        "print(t)   "
      ],
      "execution_count": 37,
      "outputs": [
        {
          "output_type": "stream",
          "text": [
            "[6414, 1550, 2109, 9350, 21828, 4300, 5944, 5722, 2825, 2044, 5481, 5200, 5853, 2750, 10012, 6357, 27000, 9414, 7681, 3200, 17500, 9200, 7380, 18314, 6557, 13713, 17768, 7493, 2771, 2861, 1263, 7285, 28165, 5080, 11622]\n"
          ],
          "name": "stdout"
        }
      ]
    },
    {
      "cell_type": "markdown",
      "metadata": {
        "id": "rztZ5pJtvwjX"
      },
      "source": [
        "### Step 1 - Calculate and Display the Sample Size and Sample Mean"
      ]
    },
    {
      "cell_type": "code",
      "metadata": {
        "id": "MRjPNo1kvwjX",
        "colab": {
          "base_uri": "https://localhost:8080/"
        },
        "outputId": "afb8fb0a-efee-4dcd-fd6b-ae3df1179d89"
      },
      "source": [
        "# Calculate and display the sample size\n",
        "sample_size = len(t)\n",
        "print(\"Sample Size =\", sample_size)\n"
      ],
      "execution_count": 38,
      "outputs": [
        {
          "output_type": "stream",
          "text": [
            "Sample Size = 35\n"
          ],
          "name": "stdout"
        }
      ]
    },
    {
      "cell_type": "code",
      "metadata": {
        "id": "Sfe6XfmWvwjY",
        "colab": {
          "base_uri": "https://localhost:8080/"
        },
        "outputId": "f9110fc0-25b2-41f7-c325-c6190caf3646"
      },
      "source": [
        "# Calculate and display the sample mean\n",
        "sample_mean = int(round(np.mean(t),0))\n",
        "print(\"Sample Size =\", sample_mean)\n"
      ],
      "execution_count": 39,
      "outputs": [
        {
          "output_type": "stream",
          "text": [
            "Sample Size = 8629\n"
          ],
          "name": "stdout"
        }
      ]
    },
    {
      "cell_type": "markdown",
      "metadata": {
        "id": "uJl_KNgVvwjZ"
      },
      "source": [
        "The point estimate of the mean enrollment of US community colleges is **8629**."
      ]
    },
    {
      "cell_type": "markdown",
      "metadata": {
        "id": "FE43zdBnvwja"
      },
      "source": [
        "### Step 2 - Calculate and Display the Sample Standard Deviation & Sample Standard Error\n",
        "\n",
        "Sample Standard Deviation $S=\\sqrt{\\dfrac{1}{n-1}\\sum\\limits_{i=1}^n (X_i-\\bar{X})^2}$\n",
        "\n",
        "Sample Standard Error = $\\dfrac{S}{\\sqrt{n}}$\n",
        "\n",
        "Note: The default **Delta Degree of Freedom (DDOF)** for Numpy's std function is 0 which is applicable to populate data. For sample data, we need to specify **ddof=1**. \n",
        "\n",
        "For the enrollment data, we round up the statistics to be the full integers (no decimal points).\n"
      ]
    },
    {
      "cell_type": "code",
      "metadata": {
        "id": "Yy2-ewJSvwja",
        "colab": {
          "base_uri": "https://localhost:8080/"
        },
        "outputId": "689b7b62-c9e1-4d9c-8057-bd17419537af"
      },
      "source": [
        "# Calculate and display the sample standard deviation using Numpy's std function.\n",
        "sample_std_dvn = int(round(np.std(t, ddof=1),0))\n",
        "print(\"Sample Standard Deviation =\",sample_std_dvn)\n"
      ],
      "execution_count": 51,
      "outputs": [
        {
          "output_type": "stream",
          "text": [
            "Sample Standard Deviation = 6944\n"
          ],
          "name": "stdout"
        }
      ]
    },
    {
      "cell_type": "code",
      "metadata": {
        "id": "l_VyIgHTvwjc",
        "colab": {
          "base_uri": "https://localhost:8080/"
        },
        "outputId": "a1a1f377-a881-4f88-bcbf-9ef2a754effc"
      },
      "source": [
        "# Calculate and display the sample standard error\n",
        "sample_std_error = int(round(sample_std / math.sqrt(sample_size),0))      \n",
        "print(\"Sample Standard Error =\", sample_std_error)\n"
      ],
      "execution_count": 50,
      "outputs": [
        {
          "output_type": "stream",
          "text": [
            "Sample Standard Error = 1174\n"
          ],
          "name": "stdout"
        }
      ]
    },
    {
      "cell_type": "markdown",
      "metadata": {
        "id": "IynJoUaJvwjc"
      },
      "source": [
        "### Step 3 - Calculate t Critical Value using t-Distribution \n",
        "\n",
        "$\\alpha$ = 1 - Confidence Level = 1 - 95% = 0.05\n",
        "\n",
        "$\\dfrac{\\alpha}{2}$ = 0.025\n",
        "\n",
        "n (sample size) = 35\n",
        "\n",
        "df (degree of freedom) = n - 1 = 35 - 1 = 34\n",
        "\n",
        "We will use Python scipy.stats t-distribution's PPF (Percentage Point Function) to calculate t critical value $t_{0.025,34}$."
      ]
    },
    {
      "cell_type": "code",
      "metadata": {
        "id": "24_EeyVwvwjd",
        "colab": {
          "base_uri": "https://localhost:8080/"
        },
        "outputId": "8bcfce4a-6898-4885-f249-4546c56b59e7"
      },
      "source": [
        "# Calculate and display the t critical value using scipy.stats.t package ppf function\n",
        "sigma = 1 -.95\n",
        "significance_level = 1 - sigma/2\n",
        "t_critical_value = round(stats.t.ppf(q=significance_level, df=sample_size-1),2)\n",
        "print(\"t critical value =\", t_critical_value)\n"
      ],
      "execution_count": 52,
      "outputs": [
        {
          "output_type": "stream",
          "text": [
            "t critical value = 2.03\n"
          ],
          "name": "stdout"
        }
      ]
    },
    {
      "cell_type": "markdown",
      "metadata": {
        "id": "qyyUKSjhvwje"
      },
      "source": [
        "### Step 4 - Calculate the Margin of Error\n",
        "\n",
        "Margin of Error = t-Statistics * Sample Standard Error = $t_{\\alpha/2,n-1}\\left(\\dfrac{s}{\\sqrt{n}}\\right)$"
      ]
    },
    {
      "cell_type": "code",
      "metadata": {
        "id": "13aQGtICvwje",
        "colab": {
          "base_uri": "https://localhost:8080/"
        },
        "outputId": "5fc9858f-a6e7-44b0-8893-af0df65089c6"
      },
      "source": [
        "# Calculate and display the margin of error\n",
        "margin_of_error = int(round(t_critical_value * std_err,2))\n",
        "print(\"Margin of Error =\", margin_of_error)\n"
      ],
      "execution_count": 53,
      "outputs": [
        {
          "output_type": "stream",
          "text": [
            "Margin of Error = 2383\n"
          ],
          "name": "stdout"
        }
      ]
    },
    {
      "cell_type": "markdown",
      "metadata": {
        "id": "W5C_lR0lvwje"
      },
      "source": [
        "### Step 5 - Calculate Lower and Upper Limit of the Confidence Interval\n",
        "\n",
        "Lower Limit = Sample Mean - Margin of Error\n",
        "\n",
        "Upper Limit = Sample Mean + Margin of Error"
      ]
    },
    {
      "cell_type": "code",
      "metadata": {
        "id": "-n9Vs8Kfvwje",
        "colab": {
          "base_uri": "https://localhost:8080/"
        },
        "outputId": "915a73bd-f331-48c8-eaf2-5f48ed805b27"
      },
      "source": [
        "# Calculate and display the lower limit\n",
        "lower_limit = sample_mean - margin_of_error\n",
        "print (\"Lower Limit = \", lower_limit)\n"
      ],
      "execution_count": 54,
      "outputs": [
        {
          "output_type": "stream",
          "text": [
            "Lower Limit =  6246\n"
          ],
          "name": "stdout"
        }
      ]
    },
    {
      "cell_type": "code",
      "metadata": {
        "id": "gyH6Ii_3vwje",
        "colab": {
          "base_uri": "https://localhost:8080/"
        },
        "outputId": "ad288e82-93ba-4edf-cf13-3a39f3ad7d3e"
      },
      "source": [
        "# Calculate and display the upper limit\n",
        "upper_limit = sample_mean + margin_of_error\n",
        "print (\"Upper Limit = \", upper_limit)\n"
      ],
      "execution_count": 55,
      "outputs": [
        {
          "output_type": "stream",
          "text": [
            "Upper Limit =  11012\n"
          ],
          "name": "stdout"
        }
      ]
    },
    {
      "cell_type": "markdown",
      "metadata": {
        "id": "ZGeD7v16vwje"
      },
      "source": [
        "### Step 6 - Now We have the 95% Confidence Interval\n",
        "Confidence Interval ($\\sigma$ unknown) = $\\bar{x}\\space\\pm\\space t_{\\alpha/2}\\left(\\dfrac{S}{\\sqrt{n}}\\right)$ = Sample_Mean $\\pm$ Margin of Error"
      ]
    },
    {
      "cell_type": "code",
      "metadata": {
        "id": "lGOOdnOmvwje",
        "colab": {
          "base_uri": "https://localhost:8080/"
        },
        "outputId": "b502e425-12c2-4af5-acf2-a1f04b317611"
      },
      "source": [
        "# Print the 95% confidence interveral in the form (lower limit, upper limit)\n",
        "print(\"The 95% Confidence Interval = (\", lower_limit, \",\", upper_limit, \")\")\n"
      ],
      "execution_count": 57,
      "outputs": [
        {
          "output_type": "stream",
          "text": [
            "The 95% Confidence Interval = ( 6246 , 11012 )\n"
          ],
          "name": "stdout"
        }
      ]
    },
    {
      "cell_type": "markdown",
      "metadata": {
        "id": "ntrz7Ouevwjf"
      },
      "source": [
        "### The End"
      ]
    }
  ]
}