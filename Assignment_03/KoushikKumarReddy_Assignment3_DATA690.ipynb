{
  "nbformat": 4,
  "nbformat_minor": 0,
  "metadata": {
    "colab": {
      "name": "KoushikKumarReddy_Assignment3_DATA690.ipynb",
      "provenance": [],
      "collapsed_sections": []
    },
    "kernelspec": {
      "name": "python3",
      "display_name": "Python 3"
    }
  },
  "cells": [
    {
      "cell_type": "markdown",
      "metadata": {
        "id": "qVisRxOOutPh"
      },
      "source": [
        "# **Assignment 03**\n",
        "## **The Problem:**\n",
        "### Write a program that generates 100 random integers between 0 and 9.\n",
        "\n",
        "### 1. Print them in a 10 by 10 matrix neatly arranged like the following (one space between each number):"
      ]
    },
    {
      "cell_type": "code",
      "metadata": {
        "colab": {
          "base_uri": "https://localhost:8080/"
        },
        "id": "zY-efFreuyh6",
        "outputId": "939736e6-0467-4665-dd0c-c409ca1a19cf"
      },
      "source": [
        "import random\n",
        "random_numbers = []\n",
        "for i in range(0, 100):                               #Length of the list is 100\n",
        "   random_numbers.append(random.randint(0, 9))        # Random numbers between 0 to 9\n",
        "print(\"List of 100 Random Integers:\")\n",
        "print(random_numbers)\n",
        "print()"
      ],
      "execution_count": 2,
      "outputs": [
        {
          "output_type": "stream",
          "text": [
            "List of 100 Random Integers:\n",
            "[6, 7, 1, 0, 5, 4, 9, 7, 1, 0, 6, 6, 1, 8, 8, 0, 7, 1, 3, 5, 4, 4, 4, 8, 8, 3, 4, 5, 8, 7, 9, 5, 2, 7, 2, 7, 0, 6, 0, 4, 9, 8, 7, 4, 5, 1, 0, 7, 5, 8, 7, 4, 1, 4, 2, 8, 5, 9, 5, 8, 0, 0, 9, 5, 2, 2, 1, 2, 9, 2, 9, 1, 4, 1, 3, 4, 6, 0, 7, 1, 5, 7, 3, 6, 6, 4, 0, 5, 6, 1, 3, 3, 2, 5, 9, 2, 4, 8, 8, 9]\n",
            "\n"
          ],
          "name": "stdout"
        }
      ]
    },
    {
      "cell_type": "code",
      "metadata": {
        "colab": {
          "base_uri": "https://localhost:8080/"
        },
        "id": "cEJmL8jbCgg4",
        "outputId": "354dad04-2c6c-41d5-e7f4-aaed0c631515"
      },
      "source": [
        "import numpy as random_numbers                          #Formation of a 10*10 Matrix\n",
        "arr= random_numbers.random.randint(0,9, size = (10,10))\n",
        "print(\"The 10*10 Matrix is:\")\n",
        "print()\n",
        "for row in arr:\n",
        "  for col in row:\n",
        "    print(col,end=' ')\n",
        "  print()\n",
        "#for j in arr:\n",
        "  #if all(arr) % 2 != 0: \n",
        "   #print(j, end = \"\")\n"
      ],
      "execution_count": 3,
      "outputs": [
        {
          "output_type": "stream",
          "text": [
            "The 10*10 Matrix is:\n",
            "\n",
            "7 7 4 4 0 7 1 6 8 6 \n",
            "8 0 1 1 8 8 2 5 3 8 \n",
            "2 7 4 1 6 3 5 6 7 3 \n",
            "5 0 0 0 4 1 1 2 7 5 \n",
            "4 8 7 6 7 3 3 3 4 8 \n",
            "0 2 4 7 3 2 7 8 8 0 \n",
            "1 1 3 6 7 6 1 3 5 3 \n",
            "3 8 6 5 7 3 5 1 0 0 \n",
            "4 6 0 7 6 3 7 0 5 6 \n",
            "6 7 8 8 7 4 1 3 2 0 \n"
          ],
          "name": "stdout"
        }
      ]
    },
    {
      "cell_type": "code",
      "metadata": {
        "colab": {
          "base_uri": "https://localhost:8080/"
        },
        "id": "JjmAL_iA72hO",
        "outputId": "d362cadd-c530-4ac0-eac2-98ac58af732b"
      },
      "source": [
        "ar=[]\n",
        "for row in arr:\n",
        "  ar.append(list(map(str,row))) \n",
        "for row_index in range(len(ar)):\n",
        "  for col_index in range(len(ar[0])):\n",
        "    if int(ar[row_index][col_index])%2 != 0:\n",
        "      ar[row_index][col_index]=\"@\"\n",
        "for row in ar:\n",
        "  for col in row:\n",
        "    print(col,end=' ')\n",
        "  print()\n"
      ],
      "execution_count": 4,
      "outputs": [
        {
          "output_type": "stream",
          "text": [
            "@ @ 4 4 0 @ @ 6 8 6 \n",
            "8 0 @ @ 8 8 2 @ @ 8 \n",
            "2 @ 4 @ 6 @ @ 6 @ @ \n",
            "@ 0 0 0 4 @ @ 2 @ @ \n",
            "4 8 @ 6 @ @ @ @ 4 8 \n",
            "0 2 4 @ @ 2 @ 8 8 0 \n",
            "@ @ @ 6 @ 6 @ @ @ @ \n",
            "@ 8 6 @ @ @ @ @ 0 0 \n",
            "4 6 0 @ 6 @ @ 0 @ 6 \n",
            "6 @ 8 8 @ 4 @ @ 2 0 \n"
          ],
          "name": "stdout"
        }
      ]
    },
    {
      "cell_type": "code",
      "metadata": {
        "colab": {
          "base_uri": "https://localhost:8080/"
        },
        "id": "eE8wRC-jCnKW",
        "outputId": "468d6f84-f6dd-4ec9-e8e5-00214492e525"
      },
      "source": [
        "for row in arr:\n",
        "  for col in row:\n",
        "    print(col,end=' ')\n",
        "  print(\"*\",sum(row))                          #To print the Sum of Each row"
      ],
      "execution_count": 5,
      "outputs": [
        {
          "output_type": "stream",
          "text": [
            "7 7 4 4 0 7 1 6 8 6 * 50\n",
            "8 0 1 1 8 8 2 5 3 8 * 44\n",
            "2 7 4 1 6 3 5 6 7 3 * 44\n",
            "5 0 0 0 4 1 1 2 7 5 * 25\n",
            "4 8 7 6 7 3 3 3 4 8 * 53\n",
            "0 2 4 7 3 2 7 8 8 0 * 41\n",
            "1 1 3 6 7 6 1 3 5 3 * 36\n",
            "3 8 6 5 7 3 5 1 0 0 * 38\n",
            "4 6 0 7 6 3 7 0 5 6 * 44\n",
            "6 7 8 8 7 4 1 3 2 0 * 46\n"
          ],
          "name": "stdout"
        }
      ]
    },
    {
      "cell_type": "code",
      "metadata": {
        "colab": {
          "base_uri": "https://localhost:8080/"
        },
        "id": "CaVoUMRcCtD9",
        "outputId": "4e62c270-92c5-4938-b2d1-0432f92c29f8"
      },
      "source": [
        "for _ in range(2*len(arr[0])+2):\n",
        "  print(\"*\",sep='',end='')\n",
        "print()\n",
        "for row in arr:\n",
        "  print(\"*\",sep='',end='')\n",
        "  for col in row:\n",
        "    print(col,end=' ')\n",
        "  print(\"*\")\n",
        "for _ in range(2*len(arr[0])+2):\n",
        "  print(\"*\",sep='',end='')\n",
        "print()"
      ],
      "execution_count": 6,
      "outputs": [
        {
          "output_type": "stream",
          "text": [
            "**********************\n",
            "*7 7 4 4 0 7 1 6 8 6 *\n",
            "*8 0 1 1 8 8 2 5 3 8 *\n",
            "*2 7 4 1 6 3 5 6 7 3 *\n",
            "*5 0 0 0 4 1 1 2 7 5 *\n",
            "*4 8 7 6 7 3 3 3 4 8 *\n",
            "*0 2 4 7 3 2 7 8 8 0 *\n",
            "*1 1 3 6 7 6 1 3 5 3 *\n",
            "*3 8 6 5 7 3 5 1 0 0 *\n",
            "*4 6 0 7 6 3 7 0 5 6 *\n",
            "*6 7 8 8 7 4 1 3 2 0 *\n",
            "**********************\n"
          ],
          "name": "stdout"
        }
      ]
    },
    {
      "cell_type": "code",
      "metadata": {
        "colab": {
          "base_uri": "https://localhost:8080/"
        },
        "id": "RNjAlm3gED0W",
        "outputId": "f628d4da-d981-44da-e238-a38a2aebc69a"
      },
      "source": [
        "def column_sum(matrix):\n",
        "  sum_column=[0] * len(matrix[0])\n",
        "  for row_index in range(len(matrix)):\n",
        "    for col_index in range(len(matrix[0])):\n",
        "      sum_column[col_index]+=matrix[row_index][col_index]\n",
        "  return sum_column\n",
        "\n",
        "for row in arr:\n",
        "  for col in row:\n",
        "    print(col,end='  ')\n",
        "  print(\"*\",sum(row))                          #To print the Sum of Each row\n",
        "\n",
        "for _ in range(len(arr[0])):\n",
        "  print(\"*\",end='  ')\n",
        "print()\n",
        "ans=column_sum(arr)\n",
        "for ele in ans:\n",
        "  print(ele,end=' ')"
      ],
      "execution_count": 7,
      "outputs": [
        {
          "output_type": "stream",
          "text": [
            "7  7  4  4  0  7  1  6  8  6  * 50\n",
            "8  0  1  1  8  8  2  5  3  8  * 44\n",
            "2  7  4  1  6  3  5  6  7  3  * 44\n",
            "5  0  0  0  4  1  1  2  7  5  * 25\n",
            "4  8  7  6  7  3  3  3  4  8  * 53\n",
            "0  2  4  7  3  2  7  8  8  0  * 41\n",
            "1  1  3  6  7  6  1  3  5  3  * 36\n",
            "3  8  6  5  7  3  5  1  0  0  * 38\n",
            "4  6  0  7  6  3  7  0  5  6  * 44\n",
            "6  7  8  8  7  4  1  3  2  0  * 46\n",
            "*  *  *  *  *  *  *  *  *  *  \n",
            "40 46 37 45 55 40 33 37 49 39 "
          ],
          "name": "stdout"
        }
      ]
    }
  ]
}