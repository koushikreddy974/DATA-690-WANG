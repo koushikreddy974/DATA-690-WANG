{
  "cells": [
    {
      "cell_type": "markdown",
      "source": "### Assignment 8. \nFor this assignment , we will use the college scorecard dataset.   \n1. You are required to use deepnote.com.   \n2. You will upload the zip file (300 some MB) to deepnote or use Linux Terminal command line wget command.  \n3. You will unzip the file using Linux Terminal unzip command.  \n4. For visualization, you can use Matplotlib, Seaborn, or Plotly Express.  \n\n\n",
      "metadata": {
        "id": "-2fQAV7J6oI1",
        "cell_id": "00000-3a5c0b5b-9126-4276-ae66-eb3b83474878",
        "deepnote_cell_type": "markdown"
      }
    },
    {
      "cell_type": "code",
      "metadata": {
        "id": "HpZckaJR6oI8",
        "cell_id": "00001-e3640dca-5d65-417f-b02b-0f0713d12eaf",
        "deepnote_to_be_reexecuted": false,
        "source_hash": "f686120",
        "execution_millis": 10,
        "execution_start": 1619533453797,
        "deepnote_cell_type": "code"
      },
      "source": "# 1 - Import necessary libraries\nimport pandas as pd\nimport numpy as np \nfrom matplotlib import pyplot as pyplot\nimport os, random \nimport seaborn as sns\nimport matplotlib.pyplot as plt\n%matplotlib inline\nimport glob\nimport statistics as st",
      "execution_count": 57,
      "outputs": []
    },
    {
      "cell_type": "code",
      "metadata": {
        "tags": [],
        "cell_id": "00003-3c26b126-b4ee-4f73-9e93-2ea15b0bf9da",
        "deepnote_to_be_reexecuted": false,
        "source_hash": "bfd91300",
        "execution_millis": 5,
        "execution_start": 1619532491098,
        "deepnote_cell_type": "code"
      },
      "source": "current_folder = os.getcwd()\nprint(current_folder)",
      "execution_count": 2,
      "outputs": [
        {
          "name": "stdout",
          "text": "/work\n",
          "output_type": "stream"
        }
      ]
    },
    {
      "cell_type": "code",
      "metadata": {
        "tags": [],
        "cell_id": "00004-08d960fd-2a57-4c27-9662-2c95d03d9f63",
        "deepnote_to_be_reexecuted": false,
        "source_hash": "2a4302da",
        "execution_millis": 8,
        "execution_start": 1619532491794,
        "deepnote_cell_type": "code"
      },
      "source": "files_list = os.listdir()\nprint(files_list)",
      "execution_count": 3,
      "outputs": [
        {
          "name": "stdout",
          "text": "['Raw Data Files', '__MACOSX', '.deepnote', 'Assignment8_KoushikKumarReddyAjjuguttu.ipynb', 'init.ipynb', 'data']\n",
          "output_type": "stream"
        }
      ]
    },
    {
      "cell_type": "code",
      "metadata": {
        "tags": [],
        "cell_id": "00005-4ed28ab1-3c92-4927-83f4-6fb1ca820a17",
        "deepnote_to_be_reexecuted": false,
        "source_hash": "3677dbc2",
        "execution_millis": 12,
        "execution_start": 1619532493468,
        "deepnote_cell_type": "code"
      },
      "source": "files_list = os.listdir('./data/input/')\nfiles_list",
      "execution_count": 4,
      "outputs": [
        {
          "output_type": "execute_result",
          "execution_count": 4,
          "data": {
            "text/plain": "['FieldOfStudyData1516_1617_PP.csv',\n 'MERGED1999_00_PP.csv',\n 'MERGED2012_13_PP.csv',\n 'Most-Recent-Cohorts-Field-of-Study.csv',\n 'FieldOfStudyData1617_1718_PP.csv',\n 'MERGED1998_99_PP.csv',\n 'MERGED2010_11_PP.csv',\n 'MERGED2003_04_PP.csv',\n 'FieldOfStudyData1415_1516_PP.csv',\n 'MERGED2005_06_PP.csv',\n 'MERGED2014_15_PP.csv',\n 'MERGED2009_10_PP.csv',\n 'MERGED2017_18_PP.csv',\n 'MERGED2001_02_PP.csv',\n 'data.yaml',\n 'MERGED2008_09_PP.csv',\n 'MERGED2016_17_PP.csv',\n 'MERGED1997_98_PP.csv',\n 'MERGED2002_03_PP.csv',\n 'MERGED2000_01_PP.csv',\n 'MERGED1996_97_PP.csv',\n 'MERGED2013_14_PP.csv',\n 'MERGED2015_16_PP.csv',\n 'MERGED2004_05_PP.csv',\n 'Most-Recent-Cohorts-All-Data-Elements.csv',\n 'MERGED2007_08_PP.csv',\n 'MERGED2011_12_PP.csv',\n 'Crosswalks.zip',\n 'MERGED2018_19_PP.csv',\n 'MERGED2006_07_PP.csv']"
          },
          "metadata": {}
        }
      ]
    },
    {
      "cell_type": "code",
      "metadata": {
        "tags": [],
        "cell_id": "00005-ae730797-4c1b-4cec-b237-7432f45d1c06",
        "deepnote_to_be_reexecuted": false,
        "source_hash": "9877926a",
        "execution_millis": 1530,
        "execution_start": 1619532495614,
        "deepnote_cell_type": "code"
      },
      "source": "df = pd.read_csv(\"./data/input/MERGED2009_10_PP.csv\", usecols=['TUITIONFEE_IN'])\ndf.head()",
      "execution_count": 5,
      "outputs": [
        {
          "output_type": "execute_result",
          "execution_count": 5,
          "data": {
            "application/vnd.deepnote.dataframe.v2+json": {
              "row_count": 5,
              "column_count": 1,
              "columns": [
                {
                  "name": "TUITIONFEE_IN",
                  "dtype": "float64",
                  "stats": {
                    "unique_count": 4,
                    "nan_count": 1,
                    "min": "4692.0",
                    "max": "8000.0",
                    "histogram": [
                      {
                        "bin_start": 4692,
                        "bin_end": 5022.8,
                        "count": 1
                      },
                      {
                        "bin_start": 5022.8,
                        "bin_end": 5353.6,
                        "count": 1
                      },
                      {
                        "bin_start": 5353.6,
                        "bin_end": 5684.4,
                        "count": 0
                      },
                      {
                        "bin_start": 5684.4,
                        "bin_end": 6015.2,
                        "count": 0
                      },
                      {
                        "bin_start": 6015.2,
                        "bin_end": 6346,
                        "count": 0
                      },
                      {
                        "bin_start": 6346,
                        "bin_end": 6676.8,
                        "count": 1
                      },
                      {
                        "bin_start": 6676.8,
                        "bin_end": 7007.6,
                        "count": 0
                      },
                      {
                        "bin_start": 7007.6,
                        "bin_end": 7338.4,
                        "count": 0
                      },
                      {
                        "bin_start": 7338.4,
                        "bin_end": 7669.200000000001,
                        "count": 0
                      },
                      {
                        "bin_start": 7669.200000000001,
                        "bin_end": 8000,
                        "count": 1
                      }
                    ]
                  }
                },
                {
                  "name": "_deepnote_index_column",
                  "dtype": "int64"
                }
              ],
              "rows_top": [
                {
                  "TUITIONFEE_IN": "nan",
                  "_deepnote_index_column": 0
                },
                {
                  "TUITIONFEE_IN": "4692.0",
                  "_deepnote_index_column": 1
                },
                {
                  "TUITIONFEE_IN": "5096.0",
                  "_deepnote_index_column": 2
                },
                {
                  "TUITIONFEE_IN": "8000.0",
                  "_deepnote_index_column": 3
                },
                {
                  "TUITIONFEE_IN": "6510.0",
                  "_deepnote_index_column": 4
                }
              ],
              "rows_bottom": null
            },
            "text/plain": "   TUITIONFEE_IN\n0            NaN\n1         4692.0\n2         5096.0\n3         8000.0\n4         6510.0",
            "text/html": "<div>\n<style scoped>\n    .dataframe tbody tr th:only-of-type {\n        vertical-align: middle;\n    }\n\n    .dataframe tbody tr th {\n        vertical-align: top;\n    }\n\n    .dataframe thead th {\n        text-align: right;\n    }\n</style>\n<table border=\"1\" class=\"dataframe\">\n  <thead>\n    <tr style=\"text-align: right;\">\n      <th></th>\n      <th>TUITIONFEE_IN</th>\n    </tr>\n  </thead>\n  <tbody>\n    <tr>\n      <th>0</th>\n      <td>NaN</td>\n    </tr>\n    <tr>\n      <th>1</th>\n      <td>4692.0</td>\n    </tr>\n    <tr>\n      <th>2</th>\n      <td>5096.0</td>\n    </tr>\n    <tr>\n      <th>3</th>\n      <td>8000.0</td>\n    </tr>\n    <tr>\n      <th>4</th>\n      <td>6510.0</td>\n    </tr>\n  </tbody>\n</table>\n</div>"
          },
          "metadata": {}
        }
      ]
    },
    {
      "cell_type": "code",
      "metadata": {
        "id": "6qafjqpb6oJC",
        "cell_id": "00002-807f0c9e-658c-489a-b242-f987c2401070",
        "deepnote_to_be_reexecuted": false,
        "source_hash": "37f7497e",
        "execution_millis": 6,
        "execution_start": 1619532497561,
        "deepnote_cell_type": "code"
      },
      "source": "# 2 - Retrieve the names of the 22 files and assign them to a List variable\n# You would need to filter out other files\n# Display the names of these 22 files\n\n#file_list = os.listdir('./data/input')\n#file_list\nmerged_files = [file for file in files_list if 'MERGED' in file]\nmerged_files\n",
      "execution_count": 6,
      "outputs": [
        {
          "output_type": "execute_result",
          "execution_count": 6,
          "data": {
            "text/plain": "['MERGED1999_00_PP.csv',\n 'MERGED2012_13_PP.csv',\n 'MERGED1998_99_PP.csv',\n 'MERGED2010_11_PP.csv',\n 'MERGED2003_04_PP.csv',\n 'MERGED2005_06_PP.csv',\n 'MERGED2014_15_PP.csv',\n 'MERGED2009_10_PP.csv',\n 'MERGED2017_18_PP.csv',\n 'MERGED2001_02_PP.csv',\n 'MERGED2008_09_PP.csv',\n 'MERGED2016_17_PP.csv',\n 'MERGED1997_98_PP.csv',\n 'MERGED2002_03_PP.csv',\n 'MERGED2000_01_PP.csv',\n 'MERGED1996_97_PP.csv',\n 'MERGED2013_14_PP.csv',\n 'MERGED2015_16_PP.csv',\n 'MERGED2004_05_PP.csv',\n 'MERGED2007_08_PP.csv',\n 'MERGED2011_12_PP.csv',\n 'MERGED2018_19_PP.csv',\n 'MERGED2006_07_PP.csv']"
          },
          "metadata": {}
        }
      ]
    },
    {
      "cell_type": "code",
      "metadata": {
        "id": "ft9Rn1lp6oJG",
        "cell_id": "00003-c27aedcc-5bf8-4957-a2cc-c8f5c7e69073",
        "deepnote_to_be_reexecuted": false,
        "source_hash": "4c050bea",
        "execution_millis": 9,
        "execution_start": 1619533187455,
        "deepnote_cell_type": "code"
      },
      "source": "# 3 - Write code to randomly select one file name out of the 22 files names. \n# Hint: generate a random integer between 0 and 21 first\n# Display the file name\nrandom_file=random.choice(os.listdir(\"./data/input\"))\nrandom_file",
      "execution_count": 43,
      "outputs": [
        {
          "output_type": "execute_result",
          "execution_count": 43,
          "data": {
            "text/plain": "'MERGED2008_09_PP.csv'"
          },
          "metadata": {}
        }
      ]
    },
    {
      "cell_type": "code",
      "metadata": {
        "id": "DJy1hmWM6oJN",
        "cell_id": "00004-734a9715-ecf5-4964-9cff-e743da17a15b",
        "deepnote_to_be_reexecuted": false,
        "source_hash": "a8e84093",
        "execution_millis": 1452,
        "execution_start": 1619533217081,
        "deepnote_cell_type": "code"
      },
      "source": "# 4 - Only read the two columns: college name (INSTNM) and in state tution (\"TUITIONFEE_IN\")\n# from this file into a data frame aand display use info() function to display a summary information\n\ndf = pd.read_csv('./data/input/MERGED2008_09_PP.csv', usecols=['INSTNM','TUITIONFEE_IN'])\nprint(df)",
      "execution_count": 44,
      "outputs": [
        {
          "name": "stdout",
          "text": "                                                 INSTNM  TUITIONFEE_IN\n0                    Community College of the Air Force            NaN\n1                              Alabama A & M University         4072.0\n2                   University of Alabama at Birmingham         4664.0\n3                                    Amridge University         6600.0\n4                   University of Alabama in Huntsville         5952.0\n...                                                 ...            ...\n7050            Texas Barber College - Branch Campus #1            NaN\n7051            Texas Barber College - Branch Campus #2            NaN\n7052  Texas Barber Colleges and Hairstyling Schools ...            NaN\n7053            Texas Barber College - Branch Campus #5            NaN\n7054  Texas Barber Colleges and Hairstyling Schools ...            NaN\n\n[7055 rows x 2 columns]\n",
          "output_type": "stream"
        }
      ]
    },
    {
      "cell_type": "code",
      "metadata": {
        "id": "wU5Ozu106oJR",
        "cell_id": "00005-3908a133-2111-4714-b752-0657ce4c4780",
        "deepnote_to_be_reexecuted": false,
        "source_hash": "2724eb9d",
        "execution_millis": 7,
        "execution_start": 1619533264775,
        "deepnote_cell_type": "code"
      },
      "source": "# 5 - Find out how many observations have missing value.\ndf.isnull().sum()\n",
      "execution_count": 48,
      "outputs": [
        {
          "output_type": "execute_result",
          "execution_count": 48,
          "data": {
            "text/plain": "INSTNM              0\nTUITIONFEE_IN    2846\ndtype: int64"
          },
          "metadata": {}
        }
      ]
    },
    {
      "cell_type": "code",
      "source": "df.shape",
      "metadata": {
        "tags": [],
        "cell_id": "00010-24fb40db-756b-4781-af45-8684ba8df57d",
        "deepnote_to_be_reexecuted": false,
        "source_hash": "14f60b8f",
        "execution_start": 1619533277607,
        "execution_millis": 10,
        "deepnote_cell_type": "code"
      },
      "outputs": [
        {
          "output_type": "execute_result",
          "execution_count": 49,
          "data": {
            "text/plain": "(7055, 2)"
          },
          "metadata": {}
        }
      ],
      "execution_count": 49
    },
    {
      "cell_type": "code",
      "source": "df.info()\nprint()\n",
      "metadata": {
        "tags": [],
        "cell_id": "00010-f3d59524-5849-4c2e-80dc-87b794dd91ed",
        "deepnote_to_be_reexecuted": false,
        "source_hash": "85abc6a1",
        "execution_start": 1619533231824,
        "execution_millis": 25,
        "deepnote_cell_type": "code"
      },
      "outputs": [
        {
          "name": "stdout",
          "text": "<class 'pandas.core.frame.DataFrame'>\nRangeIndex: 7055 entries, 0 to 7054\nData columns (total 2 columns):\n #   Column         Non-Null Count  Dtype  \n---  ------         --------------  -----  \n 0   INSTNM         7055 non-null   object \n 1   TUITIONFEE_IN  4209 non-null   float64\ndtypes: float64(1), object(1)\nmemory usage: 110.4+ KB\n\nHence there are no null values\n",
          "output_type": "stream"
        }
      ],
      "execution_count": 46
    },
    {
      "cell_type": "code",
      "metadata": {
        "id": "V0MTbBwv6oJW",
        "cell_id": "00006-faf8a9c7-a4be-4d4f-b4f0-dcdcee94aaa4",
        "deepnote_to_be_reexecuted": false,
        "source_hash": "e3b9f7a2",
        "execution_start": 1619533289727,
        "execution_millis": 14,
        "deepnote_cell_type": "code"
      },
      "source": "# 6 - Drop those observations with missing value\n# Disaply the number of observations afterward\ndf = df.dropna()\ndf.info()",
      "execution_count": 50,
      "outputs": [
        {
          "name": "stdout",
          "text": "<class 'pandas.core.frame.DataFrame'>\nInt64Index: 4209 entries, 1 to 7049\nData columns (total 2 columns):\n #   Column         Non-Null Count  Dtype  \n---  ------         --------------  -----  \n 0   INSTNM         4209 non-null   object \n 1   TUITIONFEE_IN  4209 non-null   float64\ndtypes: float64(1), object(1)\nmemory usage: 98.6+ KB\n",
          "output_type": "stream"
        }
      ]
    },
    {
      "cell_type": "code",
      "metadata": {
        "id": "A-pfpASe6oJb",
        "cell_id": "00007-6450e58c-2ae1-4751-b3f7-a2573b36f43f",
        "deepnote_to_be_reexecuted": false,
        "source_hash": "2dbed307",
        "execution_millis": 9,
        "execution_start": 1619533295403,
        "deepnote_cell_type": "code"
      },
      "source": "# 7 - Find out how many observations have 0 tution. \nnull_tuition = df[df['TUITIONFEE_IN']==0]\nnull_tuition.shape",
      "execution_count": 52,
      "outputs": [
        {
          "output_type": "execute_result",
          "execution_count": 52,
          "data": {
            "text/plain": "(5, 2)"
          },
          "metadata": {}
        }
      ]
    },
    {
      "cell_type": "code",
      "source": "null_tuition.info()",
      "metadata": {
        "tags": [],
        "cell_id": "00013-ea02f02a-a31b-48b7-80bf-9761ab10c61a",
        "deepnote_to_be_reexecuted": false,
        "source_hash": "76e256a7",
        "execution_start": 1619533303338,
        "execution_millis": 15,
        "deepnote_cell_type": "code"
      },
      "outputs": [
        {
          "name": "stdout",
          "text": "<class 'pandas.core.frame.DataFrame'>\nInt64Index: 5 entries, 674 to 2891\nData columns (total 2 columns):\n #   Column         Non-Null Count  Dtype  \n---  ------         --------------  -----  \n 0   INSTNM         5 non-null      object \n 1   TUITIONFEE_IN  5 non-null      float64\ndtypes: float64(1), object(1)\nmemory usage: 120.0+ bytes\n",
          "output_type": "stream"
        }
      ],
      "execution_count": 53
    },
    {
      "cell_type": "code",
      "metadata": {
        "id": "UUp2iUlM6oJk",
        "cell_id": "00008-da7b2adf-0669-4a7b-8ac4-179b19eacdd9",
        "deepnote_to_be_reexecuted": false,
        "source_hash": "736e9411",
        "execution_start": 1619533324626,
        "execution_millis": 16,
        "deepnote_cell_type": "code"
      },
      "source": "# 8 - Drop those observations with 0 tuition\n# Disaply the number of observations afterward\ndf = df[df['TUITIONFEE_IN']!=0]\ndf.shape",
      "execution_count": 54,
      "outputs": [
        {
          "output_type": "execute_result",
          "execution_count": 54,
          "data": {
            "text/plain": "(4204, 2)"
          },
          "metadata": {}
        }
      ]
    },
    {
      "cell_type": "code",
      "source": "df.info()",
      "metadata": {
        "tags": [],
        "cell_id": "00016-17ec546d-94ab-409e-90a2-5edba62f47d6",
        "deepnote_to_be_reexecuted": false,
        "source_hash": "de1e323c",
        "execution_start": 1619533340711,
        "execution_millis": 13,
        "deepnote_cell_type": "code"
      },
      "outputs": [
        {
          "name": "stdout",
          "text": "<class 'pandas.core.frame.DataFrame'>\nInt64Index: 4204 entries, 1 to 7049\nData columns (total 2 columns):\n #   Column         Non-Null Count  Dtype  \n---  ------         --------------  -----  \n 0   INSTNM         4204 non-null   object \n 1   TUITIONFEE_IN  4204 non-null   float64\ndtypes: float64(1), object(1)\nmemory usage: 227.6+ KB\n",
          "output_type": "stream"
        }
      ],
      "execution_count": 55
    },
    {
      "cell_type": "code",
      "metadata": {
        "id": "vXjrc9Km6oJq",
        "cell_id": "00009-1829ac76-e58f-4b84-a132-9e5a41759c56",
        "deepnote_to_be_reexecuted": false,
        "source_hash": "f6c83993",
        "execution_start": 1619533460944,
        "execution_millis": 7,
        "deepnote_cell_type": "code"
      },
      "source": "# 9 - Calculate and display the mean (average) of the tuitions of all the remaining observations \naverage_fees = st.mean(df['TUITIONFEE_IN'])\nprint('The average tuituion fees is:', average_fees )",
      "execution_count": 58,
      "outputs": [
        {
          "name": "stdout",
          "text": "The average tuituion fees is: 11388.439581351095\n",
          "output_type": "stream"
        }
      ]
    },
    {
      "cell_type": "code",
      "metadata": {
        "id": "Yyk1Kx456oJv",
        "cell_id": "00010-dc7faec5-72fd-4f81-a0ed-23692de220dd",
        "deepnote_to_be_reexecuted": false,
        "source_hash": "25061286",
        "execution_start": 1619533605496,
        "execution_millis": 17,
        "deepnote_cell_type": "code"
      },
      "source": "# 10 - Randomly select just 1 observation from the data frame.\n# Display the tuition of that observation. \nrandom_obs = df.sample()\nrandom_obs\n",
      "execution_count": 67,
      "outputs": [
        {
          "output_type": "execute_result",
          "execution_count": 67,
          "data": {
            "application/vnd.deepnote.dataframe.v2+json": {
              "row_count": 1,
              "column_count": 2,
              "columns": [
                {
                  "name": "INSTNM",
                  "dtype": "object",
                  "stats": {
                    "unique_count": 1,
                    "nan_count": 0,
                    "categories": [
                      {
                        "name": "Berkeley College-New York",
                        "count": 1
                      }
                    ]
                  }
                },
                {
                  "name": "TUITIONFEE_IN",
                  "dtype": "float64",
                  "stats": {
                    "unique_count": 1,
                    "nan_count": 0,
                    "min": "19050.0",
                    "max": "19050.0",
                    "histogram": [
                      {
                        "bin_start": 19049.5,
                        "bin_end": 19049.6,
                        "count": 0
                      },
                      {
                        "bin_start": 19049.6,
                        "bin_end": 19049.7,
                        "count": 0
                      },
                      {
                        "bin_start": 19049.7,
                        "bin_end": 19049.8,
                        "count": 0
                      },
                      {
                        "bin_start": 19049.8,
                        "bin_end": 19049.9,
                        "count": 0
                      },
                      {
                        "bin_start": 19049.9,
                        "bin_end": 19050,
                        "count": 0
                      },
                      {
                        "bin_start": 19050,
                        "bin_end": 19050.1,
                        "count": 1
                      },
                      {
                        "bin_start": 19050.1,
                        "bin_end": 19050.2,
                        "count": 0
                      },
                      {
                        "bin_start": 19050.2,
                        "bin_end": 19050.3,
                        "count": 0
                      },
                      {
                        "bin_start": 19050.3,
                        "bin_end": 19050.4,
                        "count": 0
                      },
                      {
                        "bin_start": 19050.4,
                        "bin_end": 19050.5,
                        "count": 0
                      }
                    ]
                  }
                },
                {
                  "name": "_deepnote_index_column",
                  "dtype": "int64"
                }
              ],
              "rows_top": [
                {
                  "INSTNM": "Berkeley College-New York",
                  "TUITIONFEE_IN": 19050,
                  "_deepnote_index_column": 2597
                }
              ],
              "rows_bottom": null
            },
            "text/plain": "                         INSTNM  TUITIONFEE_IN\n2597  Berkeley College-New York        19050.0",
            "text/html": "<div>\n<style scoped>\n    .dataframe tbody tr th:only-of-type {\n        vertical-align: middle;\n    }\n\n    .dataframe tbody tr th {\n        vertical-align: top;\n    }\n\n    .dataframe thead th {\n        text-align: right;\n    }\n</style>\n<table border=\"1\" class=\"dataframe\">\n  <thead>\n    <tr style=\"text-align: right;\">\n      <th></th>\n      <th>INSTNM</th>\n      <th>TUITIONFEE_IN</th>\n    </tr>\n  </thead>\n  <tbody>\n    <tr>\n      <th>2597</th>\n      <td>Berkeley College-New York</td>\n      <td>19050.0</td>\n    </tr>\n  </tbody>\n</table>\n</div>"
          },
          "metadata": {}
        }
      ]
    },
    {
      "cell_type": "code",
      "metadata": {
        "id": "2Jio5eDc6oJ0",
        "cell_id": "00011-a35c7cd8-4476-4b68-b140-a24aa8501773",
        "deepnote_to_be_reexecuted": false,
        "source_hash": "45479ece",
        "execution_start": 1619533654716,
        "execution_millis": 8,
        "deepnote_cell_type": "code"
      },
      "source": "# 11 - Calculate the different between the tuition of this observation and \n# the mean tuition off all observations calculated earlier.\n# Display the difference\nprint(random_obs['TUITIONFEE_IN']-average_fees)",
      "execution_count": 69,
      "outputs": [
        {
          "name": "stdout",
          "text": "2597    7661.560419\nName: TUITIONFEE_IN, dtype: float64\n",
          "output_type": "stream"
        }
      ]
    },
    {
      "cell_type": "code",
      "metadata": {
        "id": "E7RIjD8E6oJ5",
        "cell_id": "00012-52f3b125-221a-46cd-a66b-d0553560292c",
        "deepnote_to_be_reexecuted": true,
        "source_hash": "5704a373",
        "deepnote_cell_type": "code"
      },
      "source": "# 12 - Repeat 10 to 11 several times get the feel of the size of the difference in means",
      "execution_count": null,
      "outputs": []
    },
    {
      "cell_type": "code",
      "metadata": {
        "id": "X7P4DGbi6oJ-",
        "cell_id": "00013-bef0bdbd-4299-4d43-a1bf-c68b2b8619c4",
        "deepnote_to_be_reexecuted": false,
        "source_hash": "8a520517",
        "execution_start": 1619533770683,
        "execution_millis": 20,
        "deepnote_cell_type": "code"
      },
      "source": "# 13 - Randomly select 20 observations, display the tuition of these observation. \nrandom_values = df.sample(20)\nrandom_values",
      "execution_count": 71,
      "outputs": [
        {
          "output_type": "execute_result",
          "execution_count": 71,
          "data": {
            "application/vnd.deepnote.dataframe.v2+json": {
              "row_count": 20,
              "column_count": 2,
              "columns": [
                {
                  "name": "INSTNM",
                  "dtype": "object",
                  "stats": {
                    "unique_count": 20,
                    "nan_count": 0,
                    "categories": [
                      {
                        "name": "ITT Technical Institute-Madison",
                        "count": 1
                      },
                      {
                        "name": "Vatterott College-Sunset Hills",
                        "count": 1
                      },
                      {
                        "name": "18 others",
                        "count": 18
                      }
                    ]
                  }
                },
                {
                  "name": "TUITIONFEE_IN",
                  "dtype": "float64",
                  "stats": {
                    "unique_count": 20,
                    "nan_count": 0,
                    "min": "1120.0",
                    "max": "28851.0",
                    "histogram": [
                      {
                        "bin_start": 1120,
                        "bin_end": 3893.1,
                        "count": 5
                      },
                      {
                        "bin_start": 3893.1,
                        "bin_end": 6666.2,
                        "count": 2
                      },
                      {
                        "bin_start": 6666.2,
                        "bin_end": 9439.3,
                        "count": 1
                      },
                      {
                        "bin_start": 9439.3,
                        "bin_end": 12212.4,
                        "count": 2
                      },
                      {
                        "bin_start": 12212.4,
                        "bin_end": 14985.5,
                        "count": 5
                      },
                      {
                        "bin_start": 14985.5,
                        "bin_end": 17758.6,
                        "count": 2
                      },
                      {
                        "bin_start": 17758.6,
                        "bin_end": 20531.7,
                        "count": 0
                      },
                      {
                        "bin_start": 20531.7,
                        "bin_end": 23304.8,
                        "count": 0
                      },
                      {
                        "bin_start": 23304.8,
                        "bin_end": 26077.899999999998,
                        "count": 2
                      },
                      {
                        "bin_start": 26077.899999999998,
                        "bin_end": 28851,
                        "count": 1
                      }
                    ]
                  }
                },
                {
                  "name": "_deepnote_index_column",
                  "dtype": "int64"
                }
              ],
              "rows_top": [
                {
                  "INSTNM": "ITT Technical Institute-Madison",
                  "TUITIONFEE_IN": 16356,
                  "_deepnote_index_column": 6778
                },
                {
                  "INSTNM": "Vatterott College-Sunset Hills",
                  "TUITIONFEE_IN": 10766,
                  "_deepnote_index_column": 5728
                },
                {
                  "INSTNM": "Shippensburg University of Pennsylvania",
                  "TUITIONFEE_IN": 7099,
                  "_deepnote_index_column": 3672
                },
                {
                  "INSTNM": "Lake Michigan College",
                  "TUITIONFEE_IN": 3105,
                  "_deepnote_index_column": 1996
                },
                {
                  "INSTNM": "Rochester University",
                  "TUITIONFEE_IN": 16610,
                  "_deepnote_index_column": 2004
                },
                {
                  "INSTNM": "Assumption College",
                  "TUITIONFEE_IN": 28851,
                  "_deepnote_index_column": 1803
                },
                {
                  "INSTNM": "University of Phoenix-Sacramento Valley Campus",
                  "TUITIONFEE_IN": 13950,
                  "_deepnote_index_column": 5477
                },
                {
                  "INSTNM": "San Joaquin Valley College-Visalia",
                  "TUITIONFEE_IN": 12190,
                  "_deepnote_index_column": 538
                },
                {
                  "INSTNM": "Minnesota West Community and Technical College",
                  "TUITIONFEE_IN": 4810,
                  "_deepnote_index_column": 2078
                },
                {
                  "INSTNM": "Ellsworth Community College",
                  "TUITIONFEE_IN": 3432,
                  "_deepnote_index_column": 1384
                },
                {
                  "INSTNM": "Texas A & M University-Corpus Christi",
                  "TUITIONFEE_IN": 5236,
                  "_deepnote_index_column": 3972
                },
                {
                  "INSTNM": "Angley College",
                  "TUITIONFEE_IN": 14100,
                  "_deepnote_index_column": 5953
                },
                {
                  "INSTNM": "College of Saint Elizabeth",
                  "TUITIONFEE_IN": 24166,
                  "_deepnote_index_column": 2530
                },
                {
                  "INSTNM": "National American University-Bloomington",
                  "TUITIONFEE_IN": 12920,
                  "_deepnote_index_column": 5738
                },
                {
                  "INSTNM": "Lone Star College System",
                  "TUITIONFEE_IN": 1120,
                  "_deepnote_index_column": 4049
                },
                {
                  "INSTNM": "Golf Academy of America-Orlando",
                  "TUITIONFEE_IN": 13465,
                  "_deepnote_index_column": 5584
                },
                {
                  "INSTNM": "University of Phoenix-Oregon",
                  "TUITIONFEE_IN": 12450,
                  "_deepnote_index_column": 5652
                },
                {
                  "INSTNM": "St Petersburg College",
                  "TUITIONFEE_IN": 2326,
                  "_deepnote_index_column": 887
                },
                {
                  "INSTNM": "Saint John Fisher College",
                  "TUITIONFEE_IN": 23390,
                  "_deepnote_index_column": 2830
                },
                {
                  "INSTNM": "San Jacinto Community College",
                  "TUITIONFEE_IN": 1376,
                  "_deepnote_index_column": 4076
                }
              ],
              "rows_bottom": null
            },
            "text/plain": "                                              INSTNM  TUITIONFEE_IN\n6778                 ITT Technical Institute-Madison        16356.0\n5728                  Vatterott College-Sunset Hills        10766.0\n3672         Shippensburg University of Pennsylvania         7099.0\n1996                           Lake Michigan College         3105.0\n2004                            Rochester University        16610.0\n1803                              Assumption College        28851.0\n5477  University of Phoenix-Sacramento Valley Campus        13950.0\n538               San Joaquin Valley College-Visalia        12190.0\n2078  Minnesota West Community and Technical College         4810.0\n1384                     Ellsworth Community College         3432.0\n3972           Texas A & M University-Corpus Christi         5236.0\n5953                                  Angley College        14100.0\n2530                      College of Saint Elizabeth        24166.0\n5738        National American University-Bloomington        12920.0\n4049                        Lone Star College System         1120.0\n5584                 Golf Academy of America-Orlando        13465.0\n5652                    University of Phoenix-Oregon        12450.0\n887                            St Petersburg College         2326.0\n2830                       Saint John Fisher College        23390.0\n4076                   San Jacinto Community College         1376.0",
            "text/html": "<div>\n<style scoped>\n    .dataframe tbody tr th:only-of-type {\n        vertical-align: middle;\n    }\n\n    .dataframe tbody tr th {\n        vertical-align: top;\n    }\n\n    .dataframe thead th {\n        text-align: right;\n    }\n</style>\n<table border=\"1\" class=\"dataframe\">\n  <thead>\n    <tr style=\"text-align: right;\">\n      <th></th>\n      <th>INSTNM</th>\n      <th>TUITIONFEE_IN</th>\n    </tr>\n  </thead>\n  <tbody>\n    <tr>\n      <th>6778</th>\n      <td>ITT Technical Institute-Madison</td>\n      <td>16356.0</td>\n    </tr>\n    <tr>\n      <th>5728</th>\n      <td>Vatterott College-Sunset Hills</td>\n      <td>10766.0</td>\n    </tr>\n    <tr>\n      <th>3672</th>\n      <td>Shippensburg University of Pennsylvania</td>\n      <td>7099.0</td>\n    </tr>\n    <tr>\n      <th>1996</th>\n      <td>Lake Michigan College</td>\n      <td>3105.0</td>\n    </tr>\n    <tr>\n      <th>2004</th>\n      <td>Rochester University</td>\n      <td>16610.0</td>\n    </tr>\n    <tr>\n      <th>1803</th>\n      <td>Assumption College</td>\n      <td>28851.0</td>\n    </tr>\n    <tr>\n      <th>5477</th>\n      <td>University of Phoenix-Sacramento Valley Campus</td>\n      <td>13950.0</td>\n    </tr>\n    <tr>\n      <th>538</th>\n      <td>San Joaquin Valley College-Visalia</td>\n      <td>12190.0</td>\n    </tr>\n    <tr>\n      <th>2078</th>\n      <td>Minnesota West Community and Technical College</td>\n      <td>4810.0</td>\n    </tr>\n    <tr>\n      <th>1384</th>\n      <td>Ellsworth Community College</td>\n      <td>3432.0</td>\n    </tr>\n    <tr>\n      <th>3972</th>\n      <td>Texas A &amp; M University-Corpus Christi</td>\n      <td>5236.0</td>\n    </tr>\n    <tr>\n      <th>5953</th>\n      <td>Angley College</td>\n      <td>14100.0</td>\n    </tr>\n    <tr>\n      <th>2530</th>\n      <td>College of Saint Elizabeth</td>\n      <td>24166.0</td>\n    </tr>\n    <tr>\n      <th>5738</th>\n      <td>National American University-Bloomington</td>\n      <td>12920.0</td>\n    </tr>\n    <tr>\n      <th>4049</th>\n      <td>Lone Star College System</td>\n      <td>1120.0</td>\n    </tr>\n    <tr>\n      <th>5584</th>\n      <td>Golf Academy of America-Orlando</td>\n      <td>13465.0</td>\n    </tr>\n    <tr>\n      <th>5652</th>\n      <td>University of Phoenix-Oregon</td>\n      <td>12450.0</td>\n    </tr>\n    <tr>\n      <th>887</th>\n      <td>St Petersburg College</td>\n      <td>2326.0</td>\n    </tr>\n    <tr>\n      <th>2830</th>\n      <td>Saint John Fisher College</td>\n      <td>23390.0</td>\n    </tr>\n    <tr>\n      <th>4076</th>\n      <td>San Jacinto Community College</td>\n      <td>1376.0</td>\n    </tr>\n  </tbody>\n</table>\n</div>"
          },
          "metadata": {}
        }
      ]
    },
    {
      "cell_type": "code",
      "metadata": {
        "id": "2kvz1whj6oKA",
        "cell_id": "00014-5e944ad8-5c11-4f3e-a406-b3d4059b6d80",
        "deepnote_to_be_reexecuted": false,
        "source_hash": "72ae2127",
        "execution_start": 1619533876435,
        "execution_millis": 8,
        "deepnote_cell_type": "code"
      },
      "source": "# 14 - Calculate and displat the mean tuition of these 20 observations\nrandom_mean = st.mean(random_values['TUITIONFEE_IN'])\nprint('Random observations, avg tuition fee is :',random_mean)",
      "execution_count": 73,
      "outputs": [
        {
          "name": "stdout",
          "text": "Random observations, avg tuition fee is : 11385.9\n",
          "output_type": "stream"
        }
      ]
    },
    {
      "cell_type": "code",
      "metadata": {
        "id": "7qZe_Xn-6oKE",
        "cell_id": "00015-da911731-5a59-466c-8301-25b88fbca363",
        "deepnote_to_be_reexecuted": false,
        "source_hash": "3f0b860f",
        "execution_start": 1619534026884,
        "execution_millis": 0,
        "deepnote_cell_type": "code"
      },
      "source": "# 15 - Calculate  the different between the average tuition of these 20 observations \n# and the mean tuition off all observations calculated earlier.\n# Display the difference\ndifference = random_mean-average_fees\nprint(' Difference in avg tuition and mean tuition is: ',difference)",
      "execution_count": 76,
      "outputs": [
        {
          "name": "stdout",
          "text": " Difference in avg tuiton and mean tuition is:  -2.5395813510949665\n",
          "output_type": "stream"
        }
      ]
    },
    {
      "cell_type": "code",
      "metadata": {
        "id": "V7xgI6GU6oKH",
        "cell_id": "00016-182192f5-6fbe-482f-abb2-5dd4daa7166f",
        "deepnote_to_be_reexecuted": true,
        "source_hash": "17fec133",
        "deepnote_cell_type": "code"
      },
      "source": "# 16 - Repeat 13 to 15 several times and get the feel of the size of the difference in means \n# Compare these differences with the differences calculated earlier with just 1 observation\n# Describe your hunch/conclusion\n",
      "execution_count": null,
      "outputs": []
    },
    {
      "cell_type": "markdown",
      "source": "Write a function that take two input parameters:\n- x (number of observations) \n- y (the name of the dataframe). \n\nThe function will perform the following: \n- Randomly select x observations from y\n- Calculate the mean of these x observations \n- Calculate the mean of all observations\n- Calculate the difference between the two means \n- Return the difference",
      "metadata": {
        "id": "0i4lLySc6oKK",
        "cell_id": "00017-0c8add02-563a-4719-9a97-d355161df1da",
        "deepnote_cell_type": "markdown"
      }
    },
    {
      "cell_type": "code",
      "metadata": {
        "id": "ZblkuSq46oKL",
        "cell_id": "00018-1229a55d-8d3b-4ee8-aa83-f4c8bccd8737",
        "deepnote_to_be_reexecuted": false,
        "source_hash": "7f75b546",
        "execution_start": 1619535270981,
        "execution_millis": 0,
        "deepnote_cell_type": "code"
      },
      "source": "# 17 - write function Code here.\ndef mean_difference(x,y):\n    random_values = y.sample(x)\n    mean_random = st.mean(random_values['TUITIONFEE_IN'])\n    mean = st.mean(y['TUITIONFEE_IN'])\n    return abs(random_mean-mean)",
      "execution_count": 78,
      "outputs": []
    },
    {
      "cell_type": "code",
      "metadata": {
        "id": "rCtsaGCy6oKN",
        "cell_id": "00019-ba2cd410-a54a-433d-be78-d5ede5b4dfcf",
        "deepnote_to_be_reexecuted": false,
        "source_hash": "ee678cc2",
        "execution_start": 1619535357537,
        "execution_millis": 113,
        "deepnote_cell_type": "code"
      },
      "source": "# 18 - test the function by passing a sample size and the name of the dataframe\n# Dsplay the return of the function\nprint('Mean of 30 samples is: ',mean_difference(30,df))",
      "execution_count": 81,
      "outputs": [
        {
          "name": "stdout",
          "text": "Mean of 30 samples is:  2.5395813510949665\n",
          "output_type": "stream"
        }
      ]
    },
    {
      "cell_type": "code",
      "metadata": {
        "id": "0I58wyGH6oKP",
        "cell_id": "00020-061db947-e278-424f-8da1-73226689c5aa",
        "deepnote_to_be_reexecuted": false,
        "source_hash": "69b4c39e",
        "execution_start": 1619535416144,
        "execution_millis": 23,
        "deepnote_cell_type": "code"
      },
      "source": "# 19 - Create a list of sequence numbers from 1 to 50, name it \"sample_sizes\";\n# display it to make sure its members are from 1 to 50\nsample_sizes = [i for i in range(1,51)]\nprint(sample_sizes)",
      "execution_count": 82,
      "outputs": [
        {
          "name": "stdout",
          "text": "[1, 2, 3, 4, 5, 6, 7, 8, 9, 10, 11, 12, 13, 14, 15, 16, 17, 18, 19, 20, 21, 22, 23, 24, 25, 26, 27, 28, 29, 30, 31, 32, 33, 34, 35, 36, 37, 38, 39, 40, 41, 42, 43, 44, 45, 46, 47, 48, 49, 50]\n",
          "output_type": "stream"
        }
      ]
    },
    {
      "cell_type": "code",
      "metadata": {
        "id": "sBWwbejh6oKR",
        "cell_id": "00021-3ba5cb3a-b6ac-4f8b-ba12-23940751e9a7",
        "deepnote_to_be_reexecuted": false,
        "source_hash": "30de1a90",
        "execution_start": 1619536134518,
        "execution_millis": 314,
        "deepnote_cell_type": "code"
      },
      "source": "# 20 - Create an empty list and name it \"means_diff\" for differences of population mean and sample means;\n# Loop through the list sample_sizes:\n# For each element in the sample size list, obtain a random sample of that size from the data frame;\n# Calculate the sample mean \n# Calculate the difference between the population mean and the sample mean\n# Append the difference to the list \"means_diff\"\n# Display the list \"means_diff\" after the loop is completed\n\ndef calculateMeanDifference(sample_sizes,df):\n    means_diff = []\n    mean_population = st.mean(df['TUITIONFEE_IN'])\n    for i in sample_sizes:\n        sample_df = df.sample(i)\n        sample_mean = st.mean(sample_df['TUITIONFEE_IN'])\n        means_diff.append(abs(sample_mean-mean_population))\n    return means_diff\n    \nprint('List of means_diff:')\nmeans_diff = calculateMeanDifference(sample_sizes,df)\nprint(means_diff)\n\n",
      "execution_count": 89,
      "outputs": [
        {
          "name": "stdout",
          "text": "List of means_diff:\n[1761.5604186489054, 7134.939581351095, 3862.1062480177616, 5887.689581351095, 3627.039581351095, 2097.1062480177607, 1952.7032757917623, 1434.8104186489054, 2729.449307537794, 988.3395813510942, 169.71230862382254, 3820.5604186489054, 753.8241967357098, 2536.011009922524, 1008.1729146844282, 381.6895813510946, 1130.4395813510946, 284.60624801776066, 3697.2972607541687, 1598.539581351095, 1285.4175615060485, 1384.9695095579955, 221.91784222066053, 44.6895813510946, 832.8395813510942, 665.4011198126336, 394.2641223526098, 2480.6318472203347, 892.6809606614388, 950.5729146844278, 2414.818483165034, 1131.7479186489054, 15.863448951935425, 463.3219342922712, 941.6967242082374, 1300.1159742044601, 1389.3314732429862, 3880.534102859432, 2703.7655468540343, 913.1604186489058, 140.75665452182693, 1580.012799601287, 1847.7884185603962, 312.01496410345135, 2124.0840257955388, 554.6787117858767, 1519.9502196489666, 475.16458531557146, 1471.4599895143601, 1234.4804186489055, 259.3447323743949, 332.3488801873664, 220.23966393192495, 1435.1159742044601, 1578.8331459216333, 558.3104186489054, 337.6656818068004, 1042.0776600282152, 63.238384750600744, 1412.5229146844285, 581.1117124986358, 1003.8589361898048, 2452.7570416685558, 1177.8927063510946, 1490.3450340335203, 87.81799440648138, 1590.9932544698004, 26.604536295964863, 1395.1256360402094, 677.0318472203344, 1939.3128207877144, 431.2965297600167, 1515.820692621508, 239.06120297271627, 241.82624801776183, 436.7314712804837, 438.96301605150256, 821.1117007001867, 1011.4902142624869, 601.1145813510939, 645.2297048078854, 2039.828711331833, 468.09053913083335, 701.4770853155715, 688.9839480606697, 3200.1372557696996, 262.3131445694853, 331.9395813510946, 1589.0013791039037, 1807.471529760016, 346.7032757917623, 1698.9843316923834, 761.3131068209477, 120.28382290422451, 622.991997596273, 608.4562519822393, 23.975663825322044, 1239.0518262490532, 489.5705196590061, 725.8695813510949, 173.55839323228247, 503.8513460569775, 241.8710982605553, 585.0453505818641, 1163.0175615060489, 406.0150530492083, 961.3828485554477, 192.1247665362789, 495.46867552963886, 1193.2123086238225, 416.5206624321763, 797.2877956368084, 1283.4276752860733, 473.49901514013436, 283.45697265544186, 680.1638669247677, 971.5946066830929, 829.6260220290606, 75.4259648673924, 588.4520853155718, 1075.389994574236, 697.8473038948068, 510.37342677898596, 423.3346121972918, 9.103581351095272, 381.38581547430294, 449.69942387077936, 1517.3380188510946, 272.3201085713863, 1851.6911878796745, 432.46118200768433, 670.7270853155715, 1407.5453810549207, 1163.5365962764681, 986.9284702399837, 147.00894806066935, 343.892136095621, 1012.6424799018187, 947.3014258431504, 549.0181527796667, 682.0566026276902, 993.129722196165, 199.81216690065412, 31.886807537794084, 38.89145313166409, 1626.1357611146595, 59.64205130196751, 294.9387970272837, 151.19800254152324, 406.28624801776095, 631.6067762647999, 696.1064712804837, 215.46572514194486, 398.0539251424125, 522.5862251005183, 440.4011198126336, 1786.6051864466353, 502.978140167892, 1238.6345499045528, 466.9041686489054, 604.8337105743703, 280.5136554251694, 801.8076795106044, 49.1457845025634, 29.80284289132942, 272.5604186489054, 712.4765863135763, 710.2907718272854, 611.4657440926931, 239.4925225275656, 504.3206525670339, 421.2302790255126, 787.9829339522512, 442.6581197983305, 864.977561506048, 1004.1626913761775, 1024.3661350234106, 400.1923903398583, 194.26991585560972, 522.3659742044601, 368.3283744500095, 78.15936157087526, 843.0248995232232, 269.74936395979057, 1001.2955537840407, 696.0389132725613, 816.9476027414694, 52.62424843613917, 744.8143869028736, 542.3867344383798, 1485.7070155075435, 468.59062301776066, 504.8816621722217, 83.9962823820224, 667.5165044280184, 494.37325482048254, 1102.7949113003324, 191.44425703274464, 417.00239542144664, 710.7345813510947, 1088.3216126787556, 880.5880962025803, 425.3213547501091, 376.0555166881204, 283.4677357220753, 181.43472698216283, 103.28982289698797, 651.7142648027511, 566.2111363522545, 725.7604186489061, 430.05095575867745, 247.89532430928193, 2010.585121257198, 125.61649341526027, 817.4907441417927, 379.39791468442854, 79.5040974801268, 158.15674892413517, 527.1996880552979, 551.5077631692766, 811.7640385584073, 200.45681504530148, 392.4171598264311, 89.96190277966525, 935.0581964266839, 95.79356365197964, 1238.0846477237956, 410.3148046138176, 357.29110973537354, 1473.822190046747, 89.26604635453259, 599.2457634764924, 375.41812212362674, 89.6105215220341, 257.1672409255625, 501.4629610217871, 1531.33257054764, 1424.830337653615, 63.15456090832049, 113.61041864890467, 987.5396717609383, 486.1627218469621, 138.87991056920146, 48.50925348224155, 3.854296199926466, 212.66610970581678, 595.5199328189465, 18.54038780270821, 504.564079343063, 305.6195813510949, 495.8937646180275, 161.89989881141264, 405.4418415738073, 208.463203398338, 769.3133598253753, 138.1424498989054, 184.89483426938205, 570.4512092580717, 231.33261942110585, 21.514264802752223, 443.5391982093315, 13.550268373996005, 725.6668825272318, 811.7577631692766, 133.7528714790933, 313.7258321827394, 652.1474465196334, 23.678387321244372, 675.6589122061123, 499.77291468442854, 445.2504555492742, 1209.4359048805072, 355.27474618626, 268.4213331759129, 318.3741268056401, 92.38523352500852, 490.02612262002367, 510.5618835093683, 492.4170494732789, 317.7318472203333, 366.4821268339583, 758.3048295780445, 638.9985811930746, 227.697742592567, 13.271160298463656, 730.2632158517026, 749.4349831088366, 1077.1201369066493, 14.830314842676671, 267.72593589028475, 95.93498909564005, 205.1905556352067, 596.93446189717, 379.6658608257767, 465.80448644551507, 319.6854186489054, 322.0389079504221, 281.84897732424906, 513.7711209900426, 309.85041864890627, 784.254770808373, 9.224349563015494, 22.62109950291051, 114.04068180680042, 158.73746782923263, 792.0147447497875, 681.205053663798, 191.32015890864568, 259.4525263349133, 134.8346121972918, 476.1083916404841, 893.1030428895556, 180.78086593325133, 98.50327561861013, 530.6842281727149, 463.72755603463884, 193.0988873447859, 290.78863795486905, 100.23895439184707, 443.03229364890467, 90.38973711433391, 707.4395813510946, 441.4551554910104, 447.50486309335065, 42.15118787967549, 331.13710576547055, 36.269898771230146, 659.1762723074426, 231.55130010787252, 15.775570164056262, 546.101204147395, 285.72909334769975, 186.07621798773107, 16.56832386606402, 765.6992828436323, 196.17053769652375, 800.1992252680084, 201.73248075937772, 615.2743896106822, 366.46630100184666, 162.64546263717602, 583.1208679008014, 407.0881154419076, 115.91797678843977, 867.1236393221097, 146.1673550650903, 8.986931617204391, 229.77018876384864, 355.26766158032115, 439.5089900774765, 291.29428220579575, 144.18105862382254, 272.3942555720587, 324.8491858708694, 355.1043700834889, 42.43120516575982, 108.31672116991467, 340.35857576450326, 55.40894068257148, 40.332640871127296, 21.05903360735465, 146.67644074835334, 391.8414103844425, 995.7088121203251, 235.0289117995908, 263.22373435655936, 263.9555140167522, 551.2520813510946, 314.1225081803623, 90.32336513487826, 228.70103687670053, 481.0659254371167, 329.09929264354287, 299.5010786772982, 56.692914684428615, 45.745432414923926, 550.10153270726, 357.251750663263, 233.4496007069538, 54.781686614252976, 1.4606811160974758, 748.2013614558073, 239.72156568529863, 428.08541468442854, 332.74867226018614, 219.30227565161294, 895.1941033149196, 213.6970165870498, 945.0848402427364, 126.55529044377727, 483.67743301349947, 380.4609288529864, 341.0896807354202, 229.46143387733173, 314.09527755362615, 885.9265802650661, 556.764448875605, 112.76393623684453, 431.6055314308596, 170.0720813510943, 206.50056827483968, 995.0763972714922, 341.9574409814122, 79.75843845088639, 521.8667418449222, 313.50130534841264, 455.6213995329126, 127.50575782168198, 123.23768026259677, 200.04578450256304, 269.62367898953744, 378.03129243531293, 414.55096149637393, 297.2923027068773, 14.911870507721687, 627.8993609565969, 100.71296264605917, 181.0341028594321, 277.15230409043215, 524.1747043631913, 24.161671612377177, 326.51541073498083, 229.80155340067904, 593.2797582715466, 152.6184048805062, 187.1766705529717, 164.18336946857744, 390.8478018264759, 529.1855020970161, 71.58609297900148, 240.764594983013, 73.15764087112802, 51.35644047349706, 299.72068734187815, 289.9476273281052, 551.9464620850395, 151.07802528702086, 805.9759437630601, 987.9294391500443, 54.82367226018505, 32.73663350529023, 1275.4224095991322, 286.3944346242315, 103.9283200898335, 147.2305925870496, 725.7151271690855, 218.36355063995688, 499.69434722033475, 258.1678664290448, 228.4181964266827, 157.96396632074539, 491.81705581704773, 852.5758711875369, 279.91535227620443, 45.470308758795, 161.2882655616213, 247.73328516969377, 536.8420780375509, 140.2914332029468, 228.4113204815294, 605.64935574218, 251.1127415242554, 305.53882037676703, 588.648780717871, 131.753967036002, 541.3322852137553, 461.03793470886194, 303.54332463181163, 110.9427796453383, 248.4544749681154, 105.07846535803401, 162.39932711380607, 863.4036405477127, 120.45282371219582, 125.93642345635817, 33.786220006557414, 258.1230195062308, 230.8475311418897, 448.5311910914934, 478.70416864890467, 480.6703505818641, 435.277755624953, 539.2477892493189, 277.8104186489054, 329.73361452519384, 235.21735912887198, 245.58126512932904, 189.87804159972438, 110.59518347508128, 309.3665410978847, 290.0451436998228, 696.7596056407747, 107.86670668135957, 161.72843484323676, 130.5486722601854, 270.9656605843884, 437.86211656236264, 318.4958062506921, 461.4475973831595, 890.0084186489057, 262.4575454229507, 338.76360589990145, 511.08371653996073, 262.5844226209356, 639.3643338263428, 195.12168347103943, 395.2586435009762, 62.67459187725217, 21.06336560371892, 196.79448331187814, 136.97529144733926, 384.3319030239054, 146.10040006454437, 329.71390041724226, 312.46333127026446, 497.5119690365027, 111.66680162762896, 158.60753501904765, 406.9713732586097, 62.94311095659759, 163.0632977276, 107.97804316997826, 47.02695784584648, 228.83331941226425, 926.4118472203336, 112.38931598730778, 546.1069082124723, 437.9130661995787, 462.602152239564, 65.17173940362227, 544.9935636583214, 453.9940926292893, 316.86060626616563, 42.38438868635785, 201.29565611745056, 108.98435747049734, 286.01686254290144, 99.59201716191637, 843.7048874735428, 906.7506924622048, 57.00335214591905, 211.99584300314928, 8.025216710209861, 673.4506107628586, 775.29986819019, 613.0457666342536, 408.22751553756643, 555.3355667525539, 47.93564633560891, 45.144055012542594, 714.7782044928263, 43.64247990181866, 958.7668869568806, 119.5677401958601, 505.6792209907344, 572.7420733251638, 319.46830666527785, 77.39375198223934, 166.15156703982393, 476.89613293462025, 400.938690085497, 294.09260626212745, 470.40228117347397, 127.74099979081075, 773.4997583422446, 120.3908073414841, 107.3434874319737, 613.495277803835, 549.6166576647229, 104.1288397015378, 216.93344842123406, 183.1495794880666, 10.377172575606892, 27.748571959009496, 420.03958135109497, 47.813890871128024, 264.9231168796905, 28.737159205766147, 235.17009049691842, 77.06386692476735, 303.086741419942, 217.34907844271947, 381.29798297137495, 154.91218409082103, 45.99802548651314, 812.1764596045359, 454.9147627715629, 29.937969669314043, 252.59238270932838, 440.6294118595688, 591.2348436184384, 113.507148918663, 412.11074492613625, 171.07762848914172, 204.56377999344295, 87.18119208934877, 426.0729814629758, 432.93456462868744, 328.2766123049987, 360.6970853155726]\n",
          "output_type": "stream"
        }
      ]
    },
    {
      "cell_type": "code",
      "metadata": {
        "id": "CZxUYK6b6oKU",
        "cell_id": "00022-409318b4-2aaa-4294-8bd6-c49716885619",
        "deepnote_to_be_reexecuted": false,
        "source_hash": "7aedfdb6",
        "execution_start": 1619536138750,
        "execution_millis": 175,
        "deepnote_cell_type": "code"
      },
      "source": "# 21 - Make a scatter plot with sample size on the x-axs and  mean difference on the y-axis\n# Observe as the sample size increases, the sample means converge to the population mean.\n# Make sure you make the plot large enough \nplt.scatter(sample_sizes,means_diff)",
      "execution_count": 90,
      "outputs": [
        {
          "output_type": "execute_result",
          "execution_count": 90,
          "data": {
            "text/plain": "<matplotlib.collections.PathCollection at 0x7f73a411a4d0>"
          },
          "metadata": {}
        },
        {
          "data": {
            "text/plain": "<Figure size 432x288 with 1 Axes>",
            "image/png": "[encoded data removed]"
          },
          "metadata": {
            "needs_background": "light"
          },
          "output_type": "display_data"
        }
      ]
    },
    {
      "cell_type": "code",
      "metadata": {
        "id": "tD8z_VyB6oKW",
        "cell_id": "00023-2a2d5848-144b-4c30-ac5e-54c6bcf0fcbd",
        "deepnote_to_be_reexecuted": false,
        "source_hash": "e06365ef",
        "execution_start": 1619536141098,
        "execution_millis": 641,
        "deepnote_cell_type": "code"
      },
      "source": "# 22 - repeat 18 to 21 by replacing 50 with a larger number. For example, 300, or even 1000.\n# and see how the plot looks. \nsample_sizes = [i for i in range(1,601)]\nmeans_diff = calculateMeanDifference(sample_sizes,df)\nplt.scatter(sample_sizes,means_diff)",
      "execution_count": 91,
      "outputs": [
        {
          "output_type": "execute_result",
          "execution_count": 91,
          "data": {
            "text/plain": "<matplotlib.collections.PathCollection at 0x7f73a4111d10>"
          },
          "metadata": {}
        },
        {
          "data": {
            "text/plain": "<Figure size 432x288 with 1 Axes>",
            "image/png": "[encoded data removed]"
          },
          "metadata": {
            "needs_background": "light"
          },
          "output_type": "display_data"
        }
      ]
    },
    {
      "cell_type": "code",
      "metadata": {
        "id": "MjqbewGC6oKZ",
        "cell_id": "00024-f91f904b-1399-4975-8eff-adc06260e306",
        "deepnote_to_be_reexecuted": true,
        "source_hash": "762c9ac",
        "deepnote_cell_type": "code"
      },
      "source": "# The end - Give yourself a pat on the back!",
      "execution_count": null,
      "outputs": []
    },
    {
      "cell_type": "markdown",
      "source": "<a style='text-decoration:none;line-height:16px;display:flex;color:#5B5B62;padding:10px;justify-content:end;' href='https://deepnote.com?utm_source=created-in-deepnote-cell&projectId=b1ebc6a4-64fd-4fc2-95f5-c646733b35a9' target=\"_blank\">\n<img alt='Created in deepnote.com' style='display:inline;max-height:16px;margin:0px;margin-right:7.5px;' src='data:image/svg+xml;base64,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' > </img>\nCreated in <span style='font-weight:600;margin-left:4px;'>Deepnote</span></a>",
      "metadata": {
        "tags": [],
        "created_in_deepnote_cell": true,
        "deepnote_cell_type": "markdown"
      }
    }
  ],
  "nbformat": 4,
  "nbformat_minor": 0,
  "metadata": {
    "kernelspec": {
      "display_name": "Python 3",
      "language": "python",
      "name": "python3"
    },
    "language_info": {
      "codemirror_mode": {
        "name": "ipython",
        "version": 3
      },
      "file_extension": ".py",
      "mimetype": "text/x-python",
      "name": "python",
      "nbconvert_exporter": "python",
      "pygments_lexer": "ipython3",
      "version": "3.7.4"
    },
    "colab": {
      "name": "assignment_08.ipynb.txt",
      "provenance": [],
      "toc_visible": true
    },
    "deepnote_notebook_id": "f27ce13c-5aeb-4193-9546-b703397862e2",
    "deepnote": {
      "is_reactive": false
    },
    "deepnote_execution_queue": []
  }
}